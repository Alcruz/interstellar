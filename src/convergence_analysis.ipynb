{
 "cells": [
  {
   "cell_type": "code",
   "execution_count": 2,
   "metadata": {},
   "outputs": [],
   "source": [
    "import numpy as np\n",
    "import pandas as pd\n",
    "import matplotlib.pyplot as plt\n",
    "from frontfixing import nielsen, company\n",
    "import lcp\n",
    "from option import PutAmericanOption\n",
    "from sklearn.metrics import mean_absolute_error"
   ]
  },
  {
   "cell_type": "markdown",
   "metadata": {},
   "source": [
    "# Front fixing method"
   ]
  },
  {
   "cell_type": "code",
   "execution_count": 3,
   "metadata": {},
   "outputs": [],
   "source": [
    "r = 0.08\n",
    "sigma = 0.2\n",
    "T = 3\n",
    "K = 100\n",
    "\n",
    "put = PutAmericanOption(K, T)\n",
    "S_test = [90,100,110,120]\n",
    "V_test = [11.6974, 6.9320, 4.1550, 2.5102]"
   ]
  },
  {
   "cell_type": "markdown",
   "metadata": {},
   "source": [
    "## Inverse transformation"
   ]
  },
  {
   "cell_type": "markdown",
   "metadata": {},
   "source": [
    "### Explicit\n"
   ]
  },
  {
   "cell_type": "code",
   "execution_count": 4,
   "metadata": {},
   "outputs": [
    {
     "name": "stdout",
     "output_type": "stream",
     "text": [
      "[11.66260353  6.90244932  4.11780375  2.45127772]\n",
      "[11.68636863  6.91736523  4.12879964  2.46192898]\n",
      "[11.69238008  6.92135051  4.13216216  2.46584723]\n",
      "[11.69435998  6.92286998  4.13382877  2.46825368]\n"
     ]
    }
   ],
   "source": [
    "dx = [1/32, 1/64, 1/128, 1/512]\n",
    "dt = 0.5*(dx[-1])**2\n",
    "\n",
    "result = np.empty((len(dx), len(S_test),))\n",
    "for i, dx_i in enumerate(dx):\n",
    "    V, S_bar = nielsen.solve_explicitly(put, r, sigma, 2, dx_i, dt)\n",
    "    V_pred = V(S_test)\n",
    "    print(V_pred)\n",
    "    result[i] = V_pred"
   ]
  },
  {
   "cell_type": "code",
   "execution_count": 5,
   "metadata": {},
   "outputs": [
    {
     "data": {
      "image/png": "[encoded data removed]",
      "text/plain": [
       "<Figure size 640x480 with 1 Axes>"
      ]
     },
     "metadata": {},
     "output_type": "display_data"
    }
   ],
   "source": [
    "log_dx = np.log(dx)\n",
    "result_df = pd.DataFrame(result, index=dx, columns=S_test)\n",
    "error_df = (result_df - V_test).pow(2).mean(axis=1)\n",
    "log_error_df = np.log(error_df)\n",
    "log_error_df\n",
    "# p = np.polyfit(log_dx, log_error_df, deg=1)\n",
    "# f = np.poly1d(p)\n",
    "plt.scatter(log_dx, log_error_df)\n",
    "# plt.plot(f(np.linspace(np.min(log_dx), np.max(log_dx))))\n",
    "plt.show()"
   ]
  },
  {
   "cell_type": "markdown",
   "metadata": {},
   "source": [
    "### Implicit"
   ]
  },
  {
   "cell_type": "code",
   "execution_count": 6,
   "metadata": {},
   "outputs": [
    {
     "name": "stdout",
     "output_type": "stream",
     "text": [
      "Start time: 2023-08-18 10:46:48.851821\n",
      "Final time: 2023-08-18 10:48:54.319222\n"
     ]
    },
    {
     "ename": "ValueError",
     "evalue": "A value (120.0) in x_new is above the interpolation range's maximum value (119.88082484085486).",
     "output_type": "error",
     "traceback": [
      "\u001b[0;31m---------------------------------------------------------------------------\u001b[0m",
      "\u001b[0;31mValueError\u001b[0m                                Traceback (most recent call last)",
      "Cell \u001b[0;32mIn[6], line 8\u001b[0m\n\u001b[1;32m      6\u001b[0m \u001b[39mfor\u001b[39;00m i, dx_i \u001b[39min\u001b[39;00m \u001b[39menumerate\u001b[39m(dx):\n\u001b[1;32m      7\u001b[0m     V, S_bar \u001b[39m=\u001b[39m nielsen\u001b[39m.\u001b[39msolve_implicitly(put, r, sigma, \u001b[39m3\u001b[39m, dx_i, dt)\n\u001b[0;32m----> 8\u001b[0m     V_pred \u001b[39m=\u001b[39m V(S_test)\n\u001b[1;32m      9\u001b[0m     \u001b[39mprint\u001b[39m(V_pred)\n\u001b[1;32m     10\u001b[0m     result[i] \u001b[39m=\u001b[39m V_pred\n",
      "File \u001b[0;32m~/miniconda3/envs/math4062/lib/python3.11/site-packages/scipy/interpolate/_polyint.py:80\u001b[0m, in \u001b[0;36m_Interpolator1D.__call__\u001b[0;34m(self, x)\u001b[0m\n\u001b[1;32m     59\u001b[0m \u001b[39m\u001b[39m\u001b[39m\"\"\"\u001b[39;00m\n\u001b[1;32m     60\u001b[0m \u001b[39mEvaluate the interpolant\u001b[39;00m\n\u001b[1;32m     61\u001b[0m \n\u001b[0;32m   (...)\u001b[0m\n\u001b[1;32m     77\u001b[0m \n\u001b[1;32m     78\u001b[0m \u001b[39m\"\"\"\u001b[39;00m\n\u001b[1;32m     79\u001b[0m x, x_shape \u001b[39m=\u001b[39m \u001b[39mself\u001b[39m\u001b[39m.\u001b[39m_prepare_x(x)\n\u001b[0;32m---> 80\u001b[0m y \u001b[39m=\u001b[39m \u001b[39mself\u001b[39m\u001b[39m.\u001b[39m_evaluate(x)\n\u001b[1;32m     81\u001b[0m \u001b[39mreturn\u001b[39;00m \u001b[39mself\u001b[39m\u001b[39m.\u001b[39m_finish_y(y, x_shape)\n",
      "File \u001b[0;32m~/miniconda3/envs/math4062/lib/python3.11/site-packages/scipy/interpolate/_interpolate.py:752\u001b[0m, in \u001b[0;36minterp1d._evaluate\u001b[0;34m(self, x_new)\u001b[0m\n\u001b[1;32m    750\u001b[0m y_new \u001b[39m=\u001b[39m \u001b[39mself\u001b[39m\u001b[39m.\u001b[39m_call(\u001b[39mself\u001b[39m, x_new)\n\u001b[1;32m    751\u001b[0m \u001b[39mif\u001b[39;00m \u001b[39mnot\u001b[39;00m \u001b[39mself\u001b[39m\u001b[39m.\u001b[39m_extrapolate:\n\u001b[0;32m--> 752\u001b[0m     below_bounds, above_bounds \u001b[39m=\u001b[39m \u001b[39mself\u001b[39m\u001b[39m.\u001b[39m_check_bounds(x_new)\n\u001b[1;32m    753\u001b[0m     \u001b[39mif\u001b[39;00m \u001b[39mlen\u001b[39m(y_new) \u001b[39m>\u001b[39m \u001b[39m0\u001b[39m:\n\u001b[1;32m    754\u001b[0m         \u001b[39m# Note fill_value must be broadcast up to the proper size\u001b[39;00m\n\u001b[1;32m    755\u001b[0m         \u001b[39m# and flattened to work here\u001b[39;00m\n\u001b[1;32m    756\u001b[0m         y_new[below_bounds] \u001b[39m=\u001b[39m \u001b[39mself\u001b[39m\u001b[39m.\u001b[39m_fill_value_below\n",
      "File \u001b[0;32m~/miniconda3/envs/math4062/lib/python3.11/site-packages/scipy/interpolate/_interpolate.py:786\u001b[0m, in \u001b[0;36minterp1d._check_bounds\u001b[0;34m(self, x_new)\u001b[0m\n\u001b[1;32m    784\u001b[0m \u001b[39mif\u001b[39;00m \u001b[39mself\u001b[39m\u001b[39m.\u001b[39mbounds_error \u001b[39mand\u001b[39;00m above_bounds\u001b[39m.\u001b[39many():\n\u001b[1;32m    785\u001b[0m     above_bounds_value \u001b[39m=\u001b[39m x_new[np\u001b[39m.\u001b[39margmax(above_bounds)]\n\u001b[0;32m--> 786\u001b[0m     \u001b[39mraise\u001b[39;00m \u001b[39mValueError\u001b[39;00m(\u001b[39m\"\u001b[39m\u001b[39mA value (\u001b[39m\u001b[39m{}\u001b[39;00m\u001b[39m) in x_new is above \u001b[39m\u001b[39m\"\u001b[39m\n\u001b[1;32m    787\u001b[0m                      \u001b[39m\"\u001b[39m\u001b[39mthe interpolation range\u001b[39m\u001b[39m'\u001b[39m\u001b[39ms maximum value (\u001b[39m\u001b[39m{}\u001b[39;00m\u001b[39m).\u001b[39m\u001b[39m\"\u001b[39m\n\u001b[1;32m    788\u001b[0m                      \u001b[39m.\u001b[39mformat(above_bounds_value, \u001b[39mself\u001b[39m\u001b[39m.\u001b[39mx[\u001b[39m-\u001b[39m\u001b[39m1\u001b[39m]))\n\u001b[1;32m    790\u001b[0m \u001b[39m# !! Should we emit a warning if some values are out of bounds?\u001b[39;00m\n\u001b[1;32m    791\u001b[0m \u001b[39m# !! matlab does not.\u001b[39;00m\n\u001b[1;32m    792\u001b[0m \u001b[39mreturn\u001b[39;00m below_bounds, above_bounds\n",
      "\u001b[0;31mValueError\u001b[0m: A value (120.0) in x_new is above the interpolation range's maximum value (119.88082484085486)."
     ]
    }
   ],
   "source": [
    "\n",
    "dx = [1/8, 1/16, 1/32, 1/64, 1/128, 1/256, 1/512, 1/1024 ]\n",
    "dt = 1e-3\n",
    "\n",
    "\n",
    "result = np.empty((len(S_test), len(dx)))\n",
    "for i, dx_i in enumerate(dx):\n",
    "    V, S_bar = nielsen.solve_implicitly(put, r, sigma, 3, dx_i, dt)\n",
    "    V_pred = V(S_test)\n",
    "    print(V_pred)\n",
    "    result[i] = V_pred"
   ]
  },
  {
   "cell_type": "code",
   "execution_count": null,
   "metadata": {},
   "outputs": [],
   "source": [
    "log_dx = np.log(dx)\n",
    "result_df = pd.DataFrame(result, index=dx, columns=S_test)\n",
    "error_df = (result_df - V_test).pow(2).mean(axis=1)\n",
    "log_error_df = np.log(error_df)\n",
    "log_error_df\n",
    "# p = np.polyfit(log_dx, log_error_df, deg=1)\n",
    "# f = np.poly1d(p)\n",
    "plt.scatter(log_dx, log_error_df)\n",
    "# plt.plot(f(np.linspace(np.min(log_dx), np.max(log_dx))))\n",
    "plt.show()"
   ]
  },
  {
   "cell_type": "markdown",
   "metadata": {},
   "source": [
    "## Log transformation"
   ]
  },
  {
   "cell_type": "markdown",
   "metadata": {},
   "source": [
    "## Explicit"
   ]
  },
  {
   "cell_type": "code",
   "execution_count": null,
   "metadata": {},
   "outputs": [],
   "source": [
    "dx = [0.04, 0.02, 0.01]\n",
    "dt = 2e-3\n",
    "\n",
    "result = np.empty((len(dx), len(S_test),))\n",
    "for i, dx_i in enumerate(dx):\n",
    "    V, S_bar = company.solve_explicitly(put, r, sigma, 8, dx_i, dt)\n",
    "    S = np.linspace(0, 150, num=200)\n",
    "    V_pred = V(S_test)\n",
    "    result[i] = V_pred\n",
    "\n",
    "result"
   ]
  },
  {
   "cell_type": "code",
   "execution_count": null,
   "metadata": {},
   "outputs": [],
   "source": [
    "log_dx = np.log(dx)\n",
    "result_df = pd.DataFrame(result, index=dx, columns=S_test)\n",
    "error_df = (result_df - V_test).abs()\n",
    "log_error_df = np.log(error_df.mean(axis=1))\n",
    "\n",
    "p = np.polyfit(log_dx, log_error_df, deg=1)\n",
    "f = np.poly1d(p)\n",
    "plt.scatter(log_dx, log_error_df)\n",
    "# plt.plot(f(np.linspace(np.min(log_dx), np.max(log_dx))))\n",
    "plt.show()"
   ]
  },
  {
   "cell_type": "markdown",
   "metadata": {},
   "source": [
    "# LCP + PSOR"
   ]
  },
  {
   "cell_type": "markdown",
   "metadata": {},
   "source": [
    "## Explicit"
   ]
  },
  {
   "cell_type": "code",
   "execution_count": null,
   "metadata": {},
   "outputs": [],
   "source": [
    "dx = [1/32, 1/64, 1/128, 1/512]\n",
    "dt = 0.5*(dx[-1])**2\n",
    "\n",
    "result = np.empty((len(dx), len(S_test),))\n",
    "for i, dx_i in enumerate(dx):\n",
    "    V, S_bar = lcp.solve(put, r, sigma, 2, dx_i, dt)\n",
    "    V_pred = V(S_test)\n",
    "    print(V_pred)\n",
    "    result[i] = V_pred"
   ]
  },
  {
   "cell_type": "markdown",
   "metadata": {},
   "source": [
    "## Implicit"
   ]
  },
  {
   "cell_type": "code",
   "execution_count": null,
   "metadata": {},
   "outputs": [],
   "source": [
    "dx = [1/32, 1/64, 1/128, 1/512]\n",
    "dt = 0.5*(dx[-1])**2\n",
    "\n",
    "result = np.empty((len(dx), len(S_test),))\n",
    "for i, dx_i in enumerate(dx):\n",
    "    V, S_bar = lcp.solve(put, r, sigma, 2, dx_i, dt)\n",
    "    V_pred = V(S_test)\n",
    "    print(V_pred)\n",
    "    result[i] = V_pred"
   ]
  }
 ],
 "metadata": {
  "kernelspec": {
   "display_name": "math4062",
   "language": "python",
   "name": "python3"
  },
  "language_info": {
   "codemirror_mode": {
    "name": "ipython",
    "version": 3
   },
   "file_extension": ".py",
   "mimetype": "text/x-python",
   "name": "python",
   "nbconvert_exporter": "python",
   "pygments_lexer": "ipython3",
   "version": "3.11.3"
  },
  "orig_nbformat": 4
 },
 "nbformat": 4,
 "nbformat_minor": 2
}
