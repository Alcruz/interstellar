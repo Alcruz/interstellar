{
 "cells": [
  {
   "cell_type": "code",
   "execution_count": 20,
   "metadata": {},
   "outputs": [],
   "source": [
    "import numpy as np\n",
    "import pandas as pd\n",
    "import matplotlib.pyplot as plt\n",
    "\n",
    "from frontfixing import nielsen, company\n",
    "from option import PutAmericanOption\n",
    "\n",
    "import lcp"
   ]
  },
  {
   "cell_type": "code",
   "execution_count": 21,
   "metadata": {},
   "outputs": [],
   "source": [
    "def mean_absolute_error(Y_true, Y_pred, axis=0):\n",
    "    return np.mean(np.abs(Y_true - Y_pred), axis=axis)\n",
    "\n",
    "def mean_squared_error(Y_true, Y_pred, squared=True, axis=0):\n",
    "    res =  np.mean(np.power(Y_true - Y_pred, 2), axis=axis)\n",
    "    if not squared:\n",
    "        return np.sqrt(res)\n",
    "    return res"
   ]
  },
  {
   "cell_type": "code",
   "execution_count": 22,
   "metadata": {},
   "outputs": [],
   "source": [
    "r = 0.08\n",
    "sigma = 0.2\n",
    "T = 3\n",
    "K = 100\n",
    "\n",
    "put = PutAmericanOption(K, T)\n",
    "S_test = [90,100,110,120]\n",
    "V_test = [11.6974, 6.9320, 4.1550, 2.5102]"
   ]
  },
  {
   "cell_type": "markdown",
   "metadata": {},
   "source": [
    "# Front fixing method"
   ]
  },
  {
   "cell_type": "markdown",
   "metadata": {},
   "source": [
    "## Inverse transformation"
   ]
  },
  {
   "cell_type": "markdown",
   "metadata": {},
   "source": [
    "### Explicit\n"
   ]
  },
  {
   "cell_type": "markdown",
   "metadata": {},
   "source": [
    "#### Space"
   ]
  },
  {
   "cell_type": "code",
   "execution_count": 34,
   "metadata": {},
   "outputs": [
    {
     "name": "stdout",
     "output_type": "stream",
     "text": [
      "0.3344673021505078\n",
      "0.06942687402110345\n",
      "0.018082072139738236\n",
      "0.004340981028613494\n",
      "0.0009758980245833586\n"
     ]
    }
   ],
   "source": [
    "dx = [1/8, 1/16, 1/32, 1/64, 1/128]\n",
    "dt = 1e-6\n",
    "\n",
    "result = np.empty((len(dx), len(S_test),))\n",
    "for i, dx_i in enumerate(dx):\n",
    "    V, S_bar = nielsen.solve_explicitly(put, r, sigma, x_max=3, dx=dx_i, dt=dt)\n",
    "    V_pred = V(S_test)\n",
    "    print(mean_squared_error(V_test, V_pred, squared=False, axis=0))\n",
    "    result[i] = V_pred"
   ]
  },
  {
   "cell_type": "code",
   "execution_count": 38,
   "metadata": {},
   "outputs": [
    {
     "name": "stdout",
     "output_type": "stream",
     "text": [
      "      0.125000   0.062500   0.031250   0.015625   0.007812\n",
      "90   11.102891  11.585003  11.666996  11.690004  11.695703\n",
      "100   6.693394   6.863127   6.915119   6.928041   6.931177\n",
      "110   3.983953   4.116267   4.146001   4.152923   4.154515\n",
      "120   2.421640   2.490109   2.506015   2.509375   2.510070\n",
      "[2.08412393 4.60732641]\n"
     ]
    },
    {
     "data": {
      "image/png": "[encoded data removed]",
      "text/plain": [
       "<Figure size 640x480 with 1 Axes>"
      ]
     },
     "metadata": {},
     "output_type": "display_data"
    }
   ],
   "source": [
    "log_dx = np.log2(dx)\n",
    "log_dx_axis = np.linspace(np.min(log_dx), np.max(log_dx))\n",
    "\n",
    "result_df = pd.DataFrame(result, index=dx, columns=S_test)\n",
    "print(result_df.transpose())\n",
    "error_df = np.sqrt(mean_squared_error(V_test, result_df, axis=1))\n",
    "log_error_df = np.log2(error_df)\n",
    "\n",
    "p = np.polyfit(log_dx, log_error_df, deg=1)\n",
    "f = np.poly1d(p)\n",
    "print(p)\n",
    "plt.scatter(log_dx, log_error_df)\n",
    "plt.plot(log_dx_axis, f(log_dx_axis))\n",
    "plt.show()"
   ]
  },
  {
   "cell_type": "markdown",
   "metadata": {},
   "source": [
    "#### Time"
   ]
  },
  {
   "cell_type": "code",
   "execution_count": 32,
   "metadata": {},
   "outputs": [
    {
     "name": "stdout",
     "output_type": "stream",
     "text": [
      "0.33446708238405803\n"
     ]
    }
   ],
   "source": [
    "dx = 1/8\n",
    "dt = 0.5*np.power([1e-3], 2)\n",
    "\n",
    "result = np.empty((len(dt), len(S_test),))\n",
    "for i, dt_i in enumerate(dt):\n",
    "    V, S_bar = nielsen.solve_explicitly(put, r, sigma, x_max=3, dx=dx, dt=dt_i)\n",
    "    V_pred = V(S_test)\n",
    "    print(mean_squared_error(V_test, V_pred, squared=False, axis=0))\n",
    "    result[i] = V_pred"
   ]
  },
  {
   "cell_type": "code",
   "execution_count": null,
   "metadata": {},
   "outputs": [],
   "source": [
    "log_dt = np.log2(dt)\n",
    "log_dt_axis = np.linspace(np.min(log_dt), np.max(log_dt))\n",
    "\n",
    "result_df = pd.DataFrame(result, index=dt, columns=S_test)\n",
    "error_df = np.sqrt(mean_squared_error(V_test, result_df, axis=1))\n",
    "log_error_df = np.log2(error_df)\n",
    "\n",
    "p = np.polyfit(log_dt, log_error_df, deg=2)\n",
    "f = np.poly1d(p)\n",
    "print(p)\n",
    "\n",
    "plt.scatter(log_dt, log_error_df)\n",
    "plt.plot(log_dt_axis, f(log_dt_axis))\n",
    "plt.show()"
   ]
  },
  {
   "cell_type": "markdown",
   "metadata": {},
   "source": [
    "#### Both"
   ]
  },
  {
   "cell_type": "code",
   "execution_count": null,
   "metadata": {},
   "outputs": [],
   "source": [
    "dx = [1/8, 1/16, 1/32, 1/64, 1/128]\n",
    "dt = 0.5*np.power([1/8, 1/16, 1/32, 1/64, 1/128], 2)\n",
    "\n",
    "result = np.empty((len(dx), len(S_test),))\n",
    "for i, dx_i in enumerate(dx):\n",
    "    V, S_bar = nielsen.solve_explicitly(put, r, sigma, 2, dx_i, dt[i])\n",
    "    V_pred = V(S_test)\n",
    "    print(mean_squared_error(V_test, V_pred, squared=False, axis=0))\n",
    "    result[i] = V_pred"
   ]
  },
  {
   "cell_type": "code",
   "execution_count": null,
   "metadata": {},
   "outputs": [],
   "source": [
    "log_dt = np.log2(dt)\n",
    "log_dx = np.log2(dx)\n",
    "log_dt_axis = np.linspace(np.min(log_dt), np.max(log_dt))\n",
    "log_dx_axis = np.linspace(np.min(log_dx), np.max(log_dx))\n",
    "\n",
    "result_df = pd.DataFrame(result, index=dt, columns=S_test)\n",
    "error_df = np.sqrt(mean_squared_error(V_test, result_df, axis=1))\n",
    "log_error_df = np.log2(error_df*np.power(dt,0.5))\n",
    "\n",
    "p = np.polyfit(log_dt, log_error_df, deg=1)\n",
    "f = np.poly1d(p)\n",
    "print(p)\n",
    "\n",
    "plt.figure(figsize=(12, 4))\n",
    "plt.subplot(121)\n",
    "plt.scatter(log_dt, log_error_df)\n",
    "plt.plot(log_dt_axis, f(log_dt_axis))\n",
    "\n",
    "p = np.polyfit(log_dx, log_error_df, deg=1)\n",
    "f = np.poly1d(p)\n",
    "print(p)\n",
    "\n",
    "plt.subplot(122)\n",
    "plt.scatter(log_dx, log_error_df)\n",
    "plt.plot(log_dx_axis, f(log_dx_axis))\n",
    "plt.show()"
   ]
  },
  {
   "cell_type": "markdown",
   "metadata": {},
   "source": [
    "### Implicit"
   ]
  },
  {
   "cell_type": "markdown",
   "metadata": {},
   "source": [
    "#### Space"
   ]
  },
  {
   "cell_type": "code",
   "execution_count": null,
   "metadata": {},
   "outputs": [],
   "source": [
    "dx = [1/16, 1/32, 1/64, 1/128, 1/256]\n",
    "dt = 1/1024\n",
    "\n",
    "result = np.empty((len(dx), len(S_test),))\n",
    "for i, dx_i in enumerate(dx):\n",
    "    V, S_bar = nielsen.solve_implicitly(put, r, sigma, 2, dx_i, dt)\n",
    "    V_pred = V(S_test)\n",
    "    print(mean_squared_error(V_test, V_pred, squared=False, axis=0))\n",
    "    result[i] = V_pred"
   ]
  },
  {
   "cell_type": "code",
   "execution_count": null,
   "metadata": {},
   "outputs": [],
   "source": [
    "log_dx = np.log(dx)\n",
    "log_dx_axis = np.linspace(np.min(log_dx), np.max(log_dx))\n",
    "\n",
    "result_df = pd.DataFrame(result, index=dx, columns=S_test)\n",
    "error_df = np.sqrt(mean_squared_error(V_test, result_df, axis=1))\n",
    "log_error_df = np.log(error_df)\n",
    "p = np.polyfit(log_dx, log_error_df, deg=1)\n",
    "f = np.poly1d(p)\n",
    "print(f)\n",
    "plt.scatter(log_dx, log_error_df)\n",
    "plt.plot(log_dx_axis, f(log_dx_axis))\n",
    "plt.show()"
   ]
  },
  {
   "cell_type": "markdown",
   "metadata": {},
   "source": [
    "#### Time"
   ]
  },
  {
   "cell_type": "code",
   "execution_count": null,
   "metadata": {},
   "outputs": [],
   "source": [
    "dx = 1/128\n",
    "dt = [1/8, 1/32, 1/64, 1/128, 1/256]\n",
    "\n",
    "result = np.empty((len(dt), len(S_test),))\n",
    "for i, dt_i in enumerate(dt):\n",
    "    V, S_bar = nielsen.solve_implicitly(put, r, sigma, 2, dx, dt_i)\n",
    "    V_pred = V(S_test)\n",
    "    print(mean_squared_error(V_test, V_pred, squared=False, axis=0))\n",
    "    result[i] = V_pred"
   ]
  },
  {
   "cell_type": "code",
   "execution_count": null,
   "metadata": {},
   "outputs": [],
   "source": [
    "log_dt = np.log2(dt)\n",
    "log_dt_axis = np.linspace(np.min(log_dt), np.max(log_dt))\n",
    "\n",
    "result_df = pd.DataFrame(result, index=dt, columns=S_test)\n",
    "error_df = np.sqrt(mean_squared_error(V_test, result_df, axis=1))\n",
    "log_error_df = np.log2(error_df)\n",
    "\n",
    "p = np.polyfit(log_dt, log_error_df, deg=1)\n",
    "f = np.poly1d(p)\n",
    "print(f)\n",
    "plt.scatter(log_dt, log_error_df)\n",
    "plt.plot(log_dt_axis, f(log_dt_axis))\n",
    "plt.show()"
   ]
  },
  {
   "cell_type": "markdown",
   "metadata": {},
   "source": [
    "## Log transformation"
   ]
  },
  {
   "cell_type": "markdown",
   "metadata": {},
   "source": [
    "### Explicit"
   ]
  },
  {
   "cell_type": "markdown",
   "metadata": {},
   "source": [
    "#### Space"
   ]
  },
  {
   "cell_type": "code",
   "execution_count": null,
   "metadata": {},
   "outputs": [],
   "source": [
    "dx = [0.04, 0.02, 0.01]\n",
    "dt = 2e-3\n",
    "\n",
    "result = np.empty((len(dx), len(S_test),))\n",
    "for i, dx_i in enumerate(dx):\n",
    "    V, S_bar = company.solve_explicitly(put, r, sigma, 8, dx_i, dt)\n",
    "    S = np.linspace(0, 150, num=200)\n",
    "    V_pred = V(S_test)\n",
    "    result[i] = V_pred\n",
    "result"
   ]
  },
  {
   "cell_type": "code",
   "execution_count": null,
   "metadata": {},
   "outputs": [],
   "source": [
    "log_dx = np.log(dx)\n",
    "result_df = pd.DataFrame(result, index=dx, columns=S_test)\n",
    "error_df = (result_df - V_test).abs()\n",
    "log_error_df = np.log(error_df.mean(axis=1))\n",
    "\n",
    "p = np.polyfit(log_dx, log_error_df, deg=1)\n",
    "f = np.poly1d(p)\n",
    "plt.scatter(log_dx, log_error_df)\n",
    "# plt.plot(f(np.linspace(np.min(log_dx), np.max(log_dx))))\n",
    "plt.show()"
   ]
  },
  {
   "cell_type": "markdown",
   "metadata": {},
   "source": [
    "#### Time"
   ]
  },
  {
   "cell_type": "code",
   "execution_count": null,
   "metadata": {},
   "outputs": [],
   "source": []
  },
  {
   "cell_type": "markdown",
   "metadata": {},
   "source": [
    "# LCP + PSOR"
   ]
  },
  {
   "cell_type": "markdown",
   "metadata": {},
   "source": [
    "## Explicit"
   ]
  },
  {
   "cell_type": "markdown",
   "metadata": {},
   "source": [
    "### Space"
   ]
  },
  {
   "cell_type": "code",
   "execution_count": 4,
   "metadata": {},
   "outputs": [
    {
     "ename": "AttributeError",
     "evalue": "'GUtil' object has no attribute 'T'",
     "output_type": "error",
     "traceback": [
      "\u001b[0;31m---------------------------------------------------------------------------\u001b[0m",
      "\u001b[0;31mAttributeError\u001b[0m                            Traceback (most recent call last)",
      "Cell \u001b[0;32mIn[4], line 6\u001b[0m\n\u001b[1;32m      4\u001b[0m result \u001b[39m=\u001b[39m np\u001b[39m.\u001b[39mempty((\u001b[39mlen\u001b[39m(dx), \u001b[39mlen\u001b[39m(S_test),))\n\u001b[1;32m      5\u001b[0m \u001b[39mfor\u001b[39;00m i, dx_i \u001b[39min\u001b[39;00m \u001b[39menumerate\u001b[39m(dx):\n\u001b[0;32m----> 6\u001b[0m     V, S_bar \u001b[39m=\u001b[39m lcp\u001b[39m.\u001b[39msolve(put, r, sigma, dx_i, dt, x_min\u001b[39m=\u001b[39m\u001b[39m-\u001b[39m\u001b[39m3\u001b[39m, x_max\u001b[39m=\u001b[39m\u001b[39m3\u001b[39m)\n\u001b[1;32m      7\u001b[0m     V_pred \u001b[39m=\u001b[39m V(S_test)\n\u001b[1;32m      8\u001b[0m     \u001b[39mprint\u001b[39m(mean_squared_error(V_test, V_pred, squared\u001b[39m=\u001b[39m\u001b[39mFalse\u001b[39;00m, axis\u001b[39m=\u001b[39m\u001b[39m0\u001b[39m))\n",
      "File \u001b[0;32m~/git/math4062-dissertation/src/lcp.py:61\u001b[0m, in \u001b[0;36msolve\u001b[0;34m(option, r, sigma, dx, dt, x_min, x_max, theta, delta, wR, eps)\u001b[0m\n\u001b[1;32m     59\u001b[0m         v_new[j] \u001b[39m=\u001b[39m np\u001b[39m.\u001b[39mmaximum(g[j, i\u001b[39m+\u001b[39m\u001b[39m1\u001b[39m], v[j] \u001b[39m+\u001b[39m wR\u001b[39m*\u001b[39m(rho \u001b[39m-\u001b[39m v[j]))\n\u001b[1;32m     60\u001b[0m \u001b[39melse\u001b[39;00m:\n\u001b[0;32m---> 61\u001b[0m     v_new[\u001b[39m-\u001b[39m\u001b[39m1\u001b[39m:\u001b[39m1\u001b[39m] \u001b[39m=\u001b[39m np\u001b[39m.\u001b[39mmaximum(g\u001b[39m.\u001b[39mT[i\u001b[39m+\u001b[39m\u001b[39m1\u001b[39m, \u001b[39m1\u001b[39m:\u001b[39m-\u001b[39m\u001b[39m1\u001b[39m], v[\u001b[39m1\u001b[39m:\u001b[39m-\u001b[39m\u001b[39m1\u001b[39m] \u001b[39m+\u001b[39m wR\u001b[39m*\u001b[39m(b[\u001b[39m1\u001b[39m:\u001b[39m-\u001b[39m\u001b[39m1\u001b[39m] \u001b[39m-\u001b[39m v[\u001b[39m1\u001b[39m:\u001b[39m-\u001b[39m\u001b[39m1\u001b[39m]))\n\u001b[1;32m     62\u001b[0m \u001b[39mif\u001b[39;00m np\u001b[39m.\u001b[39mlinalg\u001b[39m.\u001b[39mnorm(v_new \u001b[39m-\u001b[39m v, \u001b[39mord\u001b[39m\u001b[39m=\u001b[39m\u001b[39m2\u001b[39m) \u001b[39m<\u001b[39m\u001b[39m=\u001b[39m eps:\n\u001b[1;32m     63\u001b[0m     \u001b[39mbreak\u001b[39;00m\n",
      "\u001b[0;31mAttributeError\u001b[0m: 'GUtil' object has no attribute 'T'"
     ]
    }
   ],
   "source": [
    "dx = [1/8, 1/16, 1/32, 1/64]\n",
    "dt = 1/1024\n",
    "\n",
    "result = np.empty((len(dx), len(S_test),))\n",
    "for i, dx_i in enumerate(dx):\n",
    "    V, S_bar = lcp.solve(put, r, sigma, dx_i, dt, x_min=-3, x_max=3)\n",
    "    V_pred = V(S_test)\n",
    "    print(mean_squared_error(V_test, V_pred, squared=False, axis=0))\n",
    "    result[i] = V_pred"
   ]
  },
  {
   "cell_type": "code",
   "execution_count": null,
   "metadata": {},
   "outputs": [],
   "source": [
    "log_dx = np.log(dx)\n",
    "log_dx_axis = np.linspace(np.min(log_dx), np.max(log_dx))\n",
    "\n",
    "result_df = pd.DataFrame(result, index=dx, columns=S_test)\n",
    "error_df = np.sqrt(mean_squared_error(V_test, result_df, axis=1))\n",
    "log_error_df = np.log(error_df)\n",
    "p = np.polyfit(log_dx, log_error_df, deg=1)\n",
    "f = np.poly1d(p)\n",
    "print(f)\n",
    "plt.scatter(log_dx, log_error_df)\n",
    "plt.plot(log_dx_axis, f(log_dx_axis))\n",
    "plt.show()"
   ]
  },
  {
   "cell_type": "markdown",
   "metadata": {},
   "source": [
    "### Time"
   ]
  },
  {
   "cell_type": "code",
   "execution_count": 19,
   "metadata": {},
   "outputs": [
    {
     "name": "stdout",
     "output_type": "stream",
     "text": [
      "0.050232493861669544\n",
      "0.05002863786813268\n",
      "0.04988037703426791\n"
     ]
    }
   ],
   "source": [
    "dx = 1/16\n",
    "dt = [1/128, 1/256, 1/1024]\n",
    "\n",
    "result = np.empty((len(dt), len(S_test),))\n",
    "for i, dt_i in enumerate(dt):\n",
    "    V, S_bar = lcp.solve(put, r, sigma, dx=dx, dt=dt_i, x_min=-3, x_max=3, wR=1)\n",
    "    V_pred = V(S_test)\n",
    "    print(mean_squared_error(V_test, V_pred, squared=False, axis=0))\n",
    "    result[i] = V_pred"
   ]
  },
  {
   "cell_type": "code",
   "execution_count": 16,
   "metadata": {},
   "outputs": [
    {
     "name": "stdout",
     "output_type": "stream",
     "text": [
      " \n",
      "0.01252 x - 2.919\n"
     ]
    },
    {
     "data": {
      "image/png": "[encoded data removed]",
      "text/plain": [
       "<Figure size 640x480 with 1 Axes>"
      ]
     },
     "metadata": {},
     "output_type": "display_data"
    }
   ],
   "source": [
    "log_dt = np.log(dt)\n",
    "log_dt_axis = np.linspace(np.min(log_dt), np.max(log_dt))\n",
    "\n",
    "result_df = pd.DataFrame(result, index=dt, columns=S_test)\n",
    "error_df = np.sqrt(mean_squared_error(V_test, result_df, axis=1))\n",
    "log_error_df = np.log(error_df)\n",
    "p = np.polyfit(log_dt, log_error_df, deg=1)\n",
    "f = np.poly1d(p)\n",
    "print(f)\n",
    "plt.scatter(log_dt, log_error_df)\n",
    "plt.plot(log_dt_axis, f(log_dt_axis))\n",
    "plt.show()"
   ]
  },
  {
   "cell_type": "markdown",
   "metadata": {},
   "source": [
    "## Implicit"
   ]
  },
  {
   "cell_type": "markdown",
   "metadata": {},
   "source": [
    "### Space"
   ]
  },
  {
   "cell_type": "code",
   "execution_count": null,
   "metadata": {},
   "outputs": [],
   "source": [
    "dx = [1/8, 1/16, 1/32, 1/64]\n",
    "dt = 1/128\n",
    "\n",
    "result = np.empty((len(dx), len(S_test),))\n",
    "for i, dx_i in enumerate(dx):\n",
    "    V, S_bar = lcp.solve(put, r, sigma, dx=dx_i, dt=dt, x_min=-3, x_max=3, theta=1)\n",
    "    V_pred = V(S_test)\n",
    "    print(mean_squared_error(V_test, V_pred, squared=False, axis=0))\n",
    "    result[i] = V_pred"
   ]
  },
  {
   "cell_type": "code",
   "execution_count": null,
   "metadata": {},
   "outputs": [],
   "source": [
    "log_dx = np.log(dx)\n",
    "log_dx_axis = np.linspace(np.min(log_dx), np.max(log_dx))\n",
    "\n",
    "result_df = pd.DataFrame(result, index=dx, columns=S_test)\n",
    "error_df = np.sqrt(mean_squared_error(V_test, result_df, axis=1))\n",
    "log_error_df = np.log(error_df)\n",
    "p = np.polyfit(log_dx, log_error_df, deg=1)\n",
    "f = np.poly1d(p)\n",
    "print(f)\n",
    "plt.scatter(log_dx, log_error_df)\n",
    "plt.plot(log_dx_axis, f(log_dx_axis))\n",
    "plt.show()"
   ]
  },
  {
   "cell_type": "markdown",
   "metadata": {},
   "source": [
    "### Time"
   ]
  },
  {
   "cell_type": "code",
   "execution_count": null,
   "metadata": {},
   "outputs": [],
   "source": [
    "dx = 1/64\n",
    "dt = [1/2, 1/4, 1/8, 1/16, 1/32]\n",
    "\n",
    "result = np.empty((len(dt), len(S_test),))\n",
    "for i, dt_i in enumerate(dt):\n",
    "    V, S_bar = lcp.solve(put, r, sigma, dx=dx, dt=dt_i, x_min=-3, x_max=3, theta=1)\n",
    "    V_pred = V(S_test)\n",
    "    print(mean_squared_error(V_test, V_pred, squared=False, axis=0))\n",
    "    result[i] = V_pred"
   ]
  },
  {
   "cell_type": "code",
   "execution_count": null,
   "metadata": {},
   "outputs": [],
   "source": [
    "log_dt = np.log(dt)\n",
    "log_dt_axis = np.linspace(np.min(log_dt), np.max(log_dt))\n",
    "\n",
    "result_df = pd.DataFrame(result, index=dt, columns=S_test)\n",
    "error_df = np.sqrt(mean_squared_error(V_test, result_df, axis=1))\n",
    "log_error_df = np.log(error_df)\n",
    "p = np.polyfit(log_dt, log_error_df, deg=1)\n",
    "f = np.poly1d(p)\n",
    "print(f)\n",
    "plt.scatter(log_dt, log_error_df)\n",
    "plt.plot(log_dt_axis, f(log_dt_axis))\n",
    "plt.show()"
   ]
  },
  {
   "cell_type": "markdown",
   "metadata": {},
   "source": [
    "## Crank nicholson"
   ]
  },
  {
   "cell_type": "markdown",
   "metadata": {},
   "source": [
    "### Space"
   ]
  },
  {
   "cell_type": "code",
   "execution_count": null,
   "metadata": {},
   "outputs": [],
   "source": [
    "dx = [1/8, 1/16, 1/32, 1/64, 1/128]\n",
    "dt = 1/1024\n",
    "\n",
    "result = np.empty((len(dx), len(S_test),))\n",
    "for i, dx_i in enumerate(dx):\n",
    "    V, S_bar = lcp.solve(put, r, sigma, dx=dx_i, dt=dt, x_min=-3, x_max=3, theta=0.5)\n",
    "    V_pred = V(S_test)\n",
    "    print(mean_squared_error(V_test, V_pred, squared=False, axis=0))\n",
    "    result[i] = V_pred"
   ]
  },
  {
   "cell_type": "code",
   "execution_count": null,
   "metadata": {},
   "outputs": [],
   "source": [
    "log_dx = np.log(dx)\n",
    "log_dx_axis = np.linspace(np.min(log_dx), np.max(log_dx))\n",
    "\n",
    "result_df = pd.DataFrame(result, index=dx, columns=S_test)\n",
    "error_df = np.sqrt(mean_squared_error(V_test, result_df, axis=1))\n",
    "log_error_df = np.log(error_df)\n",
    "p = np.polyfit(log_dx, log_error_df, deg=1)\n",
    "f = np.poly1d(p)\n",
    "print(f)\n",
    "plt.scatter(log_dx, log_error_df)\n",
    "plt.plot(log_dx_axis, f(log_dx_axis))\n",
    "plt.show()"
   ]
  },
  {
   "cell_type": "markdown",
   "metadata": {},
   "source": [
    "### Time"
   ]
  },
  {
   "cell_type": "code",
   "execution_count": null,
   "metadata": {},
   "outputs": [],
   "source": [
    "dx = 1/64\n",
    "dt = [1/2, 1/4, 1/8, 1/16]\n",
    "\n",
    "result = np.empty((len(dt), len(S_test),))\n",
    "for i, dt_i in enumerate(dt):\n",
    "    V, S_bar = lcp.solve(put, r, sigma, dx=dx, dt=dt_i, x_min=-3, x_max=3, theta=0.5)\n",
    "    V_pred = V(S_test)\n",
    "    print(mean_squared_error(V_test, V_pred, squared=False, axis=0))\n",
    "    result[i] = V_pred"
   ]
  },
  {
   "cell_type": "code",
   "execution_count": null,
   "metadata": {},
   "outputs": [],
   "source": [
    "log_dt = np.log(dt)\n",
    "log_dt_axis = np.linspace(np.min(log_dt), np.max(log_dt))\n",
    "\n",
    "result_df = pd.DataFrame(result, index=dt, columns=S_test)\n",
    "error_df = np.sqrt(mean_squared_error(V_test, result_df, axis=1))\n",
    "log_error_df = np.log(error_df)\n",
    "p = np.polyfit(log_dt, log_error_df, deg=1)\n",
    "f = np.poly1d(p)\n",
    "print(f)\n",
    "plt.scatter(log_dt, log_error_df)\n",
    "plt.plot(log_dt_axis, f(log_dt_axis))\n",
    "plt.show()"
   ]
  },
  {
   "cell_type": "code",
   "execution_count": null,
   "metadata": {},
   "outputs": [],
   "source": []
  }
 ],
 "metadata": {
  "kernelspec": {
   "display_name": "math4062",
   "language": "python",
   "name": "python3"
  },
  "language_info": {
   "codemirror_mode": {
    "name": "ipython",
    "version": 3
   },
   "file_extension": ".py",
   "mimetype": "text/x-python",
   "name": "python",
   "nbconvert_exporter": "python",
   "pygments_lexer": "ipython3",
   "version": "3.11.3"
  },
  "orig_nbformat": 4
 },
 "nbformat": 4,
 "nbformat_minor": 2
}
